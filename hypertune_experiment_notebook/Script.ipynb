{
 "cells": [
  {
   "cell_type": "markdown",
   "metadata": {},
   "source": [
    "# Hypertuning experiment"
   ]
  },
  {
   "cell_type": "markdown",
   "metadata": {},
   "source": [
    "## Importing libraries"
   ]
  },
  {
   "cell_type": "code",
   "execution_count": 1,
   "metadata": {},
   "outputs": [
    {
     "name": "stderr",
     "output_type": "stream",
     "text": [
      "c:\\Users\\jelle\\AppData\\Local\\Programs\\Python\\Python311\\Lib\\site-packages\\tqdm\\auto.py:21: TqdmWarning: IProgress not found. Please update jupyter and ipywidgets. See https://ipywidgets.readthedocs.io/en/stable/user_install.html\n",
      "  from .autonotebook import tqdm as notebook_tqdm\n",
      "2024-06-04 11:17:27,001\tINFO util.py:154 -- Missing packages: ['ipywidgets']. Run `pip install -U ipywidgets`, then restart the notebook server for rich notebook output.\n"
     ]
    }
   ],
   "source": [
    "from pathlib import Path\n",
    "import gin\n",
    "import numpy as np\n",
    "import torch\n",
    "from typing import List\n",
    "from torch.nn.utils.rnn import pad_sequence\n",
    "from mltrainer import rnn_models, Trainer\n",
    "from torch import optim\n",
    "from mads_datasets import datatools"
   ]
  },
  {
   "cell_type": "markdown",
   "metadata": {},
   "source": [
    "## Loading gesture data"
   ]
  },
  {
   "cell_type": "code",
   "execution_count": 2,
   "metadata": {},
   "outputs": [
    {
     "name": "stderr",
     "output_type": "stream",
     "text": [
      "\u001b[32m2024-06-04 11:21:05.244\u001b[0m | \u001b[1mINFO    \u001b[0m | \u001b[36mmads_datasets.base\u001b[0m:\u001b[36mdownload_data\u001b[0m:\u001b[36m121\u001b[0m - \u001b[1mFolder already exists at C:\\Users\\jelle\\.cache\\mads_datasets\\gestures\u001b[0m\n",
      "100%|\u001b[38;2;30;71;6m██████████\u001b[0m| 2600/2600 [00:02<00:00, 1205.39it/s]\n",
      "100%|\u001b[38;2;30;71;6m██████████\u001b[0m| 651/651 [00:00<00:00, 1291.06it/s]\n"
     ]
    }
   ],
   "source": [
    "from mads_datasets import DatasetFactoryProvider, DatasetType\n",
    "from mltrainer.preprocessors import PaddedPreprocessor\n",
    "preprocessor = PaddedPreprocessor()\n",
    "\n",
    "gesturesdatasetfactory = DatasetFactoryProvider.create_factory(DatasetType.GESTURES)\n",
    "streamers = gesturesdatasetfactory.create_datastreamer(batchsize=32, preprocessor=preprocessor)\n",
    "train = streamers[\"train\"]\n",
    "valid = streamers[\"valid\"]\n",
    "trainstreamer = train.stream()\n",
    "validstreamer = valid.stream()"
   ]
  },
  {
   "cell_type": "markdown",
   "metadata": {},
   "source": [
    "## Creating model logging folder"
   ]
  },
  {
   "cell_type": "code",
   "execution_count": 3,
   "metadata": {},
   "outputs": [
    {
     "data": {
      "text/plain": [
       "True"
      ]
     },
     "execution_count": 3,
     "metadata": {},
     "output_type": "execute_result"
    }
   ],
   "source": [
    "import mlflow\n",
    "from datetime import datetime\n",
    "\n",
    "mlflow.set_tracking_uri(\"sqlite:///mlflow.db\")\n",
    "mlflow.set_experiment(\"gestures\")\n",
    "modeldir = Path(\"gestures_experiments/\").resolve()\n",
    "modeldir.exists()"
   ]
  },
  {
   "cell_type": "markdown",
   "metadata": {},
   "source": [
    "## Experiment 1: Optimizers & Learning rates"
   ]
  },
  {
   "cell_type": "code",
   "execution_count": 4,
   "metadata": {},
   "outputs": [],
   "source": [
    "gin.parse_config_file(\"gestures_gru.gin\")\n",
    "model = rnn_models.GRUmodel()\n",
    "loss_fn = torch.nn.CrossEntropyLoss()\n",
    "learning_rates = [0.01, 0.001, 0.0001]\n",
    "optimizers = [optim.Adam, optim.SGD, optim.RMSprop]"
   ]
  },
  {
   "cell_type": "code",
   "execution_count": 8,
   "metadata": {},
   "outputs": [],
   "source": [
    "# from mltrainer import TrainerSettings, ReportTypes\n",
    "# from mltrainer.metrics import Accuracy\n",
    "\n",
    "# for current_learning_rate in learning_rates:\n",
    "    \n",
    "#     for current_optimizer in optimizers:\n",
    "#         accuracy = Accuracy()\n",
    "#         settings = TrainerSettings(\n",
    "#             optimizer_kwargs={'lr': current_learning_rate, 'weight_decay': 1e-05},\n",
    "#             epochs=50,\n",
    "#             metrics=[accuracy],\n",
    "#             logdir=Path(\"gestures_experiments\"),\n",
    "#             train_steps=len(train),\n",
    "#             valid_steps=len(valid),\n",
    "#             reporttypes=[ReportTypes.GIN, ReportTypes.TENSORBOARD, ReportTypes.MLFLOW],\n",
    "#             earlystop_kwargs={'save': True, 'verbose': True, 'patience': 10}\n",
    "#         )\n",
    "    \n",
    "#         trainer = Trainer(\n",
    "#             model=model,\n",
    "#             settings=settings,\n",
    "#             loss_fn=loss_fn,\n",
    "#             optimizer=current_optimizer,\n",
    "#             traindataloader=trainstreamer,\n",
    "#             validdataloader=validstreamer,\n",
    "#             scheduler=optim.lr_scheduler.ReduceLROnPlateau,\n",
    "#             device='cpu',\n",
    "#         )\n",
    "\n",
    "#         trainer.loop()\n",
    "\n",
    "#         tag = datetime.now().strftime(\"%Y%m%d-%H%M\")\n",
    "#         modelpath = modeldir / (tag + \"model.pt\")\n",
    "#         torch.save(model, modelpath)"
   ]
  },
  {
   "cell_type": "markdown",
   "metadata": {},
   "source": [
    "## Experiment 2: Hidden Sizes & Dropout rates"
   ]
  },
  {
   "cell_type": "code",
   "execution_count": 6,
   "metadata": {},
   "outputs": [
    {
     "data": {
      "text/plain": [
       "['configs/experiment_2_1.gin',\n",
       " 'configs/experiment_2_2.gin',\n",
       " 'configs/experiment_2_3.gin',\n",
       " 'configs/experiment_2_4.gin',\n",
       " 'configs/experiment_2_5.gin',\n",
       " 'configs/experiment_2_6.gin',\n",
       " 'configs/experiment_2_7.gin',\n",
       " 'configs/experiment_2_8.gin',\n",
       " 'configs/experiment_2_9.gin']"
      ]
     },
     "execution_count": 6,
     "metadata": {},
     "output_type": "execute_result"
    }
   ],
   "source": [
    "gin_files = []\n",
    "\n",
    "for i in range(9):\n",
    "    file_number = i + 1\n",
    "    file_string = f'configs/experiment_2_{file_number}.gin'\n",
    "    gin_files.append(file_string)\n",
    "\n",
    "gin_files"
   ]
  },
  {
   "cell_type": "code",
   "execution_count": 9,
   "metadata": {},
   "outputs": [],
   "source": [
    "# from mltrainer import TrainerSettings, ReportTypes\n",
    "# from mltrainer.metrics import Accuracy\n",
    "\n",
    "# accuracy = Accuracy()\n",
    "\n",
    "# for gin_file in gin_files:\n",
    "#     gin.parse_config_file(gin_file)\n",
    "#     print(f\"Reading gin-file {gin_file}\")\n",
    "    \n",
    "#     settings = TrainerSettings(\n",
    "#         optimizer_kwargs={'lr': 0.01, 'weight_decay': 1e-05},\n",
    "#         epochs=50,\n",
    "#         metrics=[accuracy],\n",
    "#         logdir=Path(\"gestures_experiments\"),\n",
    "#         train_steps=len(train),\n",
    "#         valid_steps=len(valid),\n",
    "#         reporttypes=[ReportTypes.GIN, ReportTypes.TENSORBOARD, ReportTypes.MLFLOW],\n",
    "#         earlystop_kwargs={'save': True, 'verbose': True, 'patience': 10}\n",
    "#     )\n",
    "    \n",
    "#     trainer = Trainer(\n",
    "#         model=model,\n",
    "#         settings=settings,\n",
    "#         loss_fn=loss_fn,\n",
    "#         optimizer=optim.Adam,\n",
    "#         traindataloader=trainstreamer,\n",
    "#         validdataloader=validstreamer,\n",
    "#         scheduler=optim.lr_scheduler.ReduceLROnPlateau,\n",
    "#         device='cpu',\n",
    "#     )\n",
    "\n",
    "#     trainer.loop()\n",
    "\n",
    "#     tag = datetime.now().strftime(\"%Y%m%d-%H%M\")\n",
    "#     modelpath = modeldir / (tag + \"model.pt\")\n",
    "#     torch.save(model, modelpath)\n",
    "#     print(\"==========================================================\")"
   ]
  }
 ],
 "metadata": {
  "kernelspec": {
   "display_name": "base",
   "language": "python",
   "name": "python3"
  },
  "language_info": {
   "codemirror_mode": {
    "name": "ipython",
    "version": 3
   },
   "file_extension": ".py",
   "mimetype": "text/x-python",
   "name": "python",
   "nbconvert_exporter": "python",
   "pygments_lexer": "ipython3",
   "version": "3.11.4"
  }
 },
 "nbformat": 4,
 "nbformat_minor": 2
}
